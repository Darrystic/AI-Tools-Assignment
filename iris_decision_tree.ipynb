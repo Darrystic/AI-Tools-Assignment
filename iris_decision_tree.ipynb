{
  "nbformat": 4,
  "nbformat_minor": 0,
  "metadata": {
    "colab": {
      "provenance": [],
      "authorship_tag": "ABX9TyMI6cT5n1xsgWacLxoQIF4v",
      "include_colab_link": true
    },
    "kernelspec": {
      "name": "python3",
      "display_name": "Python 3"
    },
    "language_info": {
      "name": "python"
    }
  },
  "cells": [
    {
      "cell_type": "markdown",
      "metadata": {
        "id": "view-in-github",
        "colab_type": "text"
      },
      "source": [
        "<a href=\"https://colab.research.google.com/github/Darrystic/AI-Tools-Assignment/blob/main/iris_decision_tree.ipynb\" target=\"_parent\"><img src=\"https://colab.research.google.com/assets/colab-badge.svg\" alt=\"Open In Colab\"/></a>"
      ]
    },
    {
      "cell_type": "markdown",
      "source": [
        "# notebooks/01_iris_decision_tree.ipynb"
      ],
      "metadata": {
        "id": "2jHYsnulrep7"
      }
    },
    {
      "cell_type": "code",
      "execution_count": 8,
      "metadata": {
        "colab": {
          "base_uri": "https://localhost:8080/",
          "height": 1000
        },
        "id": "1VUrSl93rUq8",
        "outputId": "f4d11087-42c2-4484-fff0-5d4954da73e2"
      },
      "outputs": [
        {
          "output_type": "stream",
          "name": "stdout",
          "text": [
            "Dataset URL: https://www.kaggle.com/datasets/uciml/iris\n",
            "License(s): CC0-1.0\n",
            "iris.zip: Skipping, found more recently modified local copy (use --force to force download)\n",
            "Archive:  data/iris.zip\n",
            "  inflating: data/Iris.csv           \n",
            "  inflating: data/database.sqlite    \n",
            "   Id  SepalLengthCm  SepalWidthCm  PetalLengthCm  PetalWidthCm      Species\n",
            "0   1            5.1           3.5            1.4           0.2  Iris-setosa\n",
            "1   2            4.9           3.0            1.4           0.2  Iris-setosa\n",
            "2   3            4.7           3.2            1.3           0.2  Iris-setosa\n",
            "3   4            4.6           3.1            1.5           0.2  Iris-setosa\n",
            "4   5            5.0           3.6            1.4           0.2  Iris-setosa\n",
            "<class 'pandas.core.frame.DataFrame'>\n",
            "RangeIndex: 150 entries, 0 to 149\n",
            "Data columns (total 6 columns):\n",
            " #   Column         Non-Null Count  Dtype  \n",
            "---  ------         --------------  -----  \n",
            " 0   Id             150 non-null    int64  \n",
            " 1   SepalLengthCm  150 non-null    float64\n",
            " 2   SepalWidthCm   150 non-null    float64\n",
            " 3   PetalLengthCm  150 non-null    float64\n",
            " 4   PetalWidthCm   150 non-null    float64\n",
            " 5   Species        150 non-null    object \n",
            "dtypes: float64(4), int64(1), object(1)\n",
            "memory usage: 7.2+ KB\n",
            "None\n",
            "Accuracy: 1.0\n",
            "Precision: 1.0\n",
            "Recall: 1.0\n",
            "                 precision    recall  f1-score   support\n",
            "\n",
            "    Iris-setosa       1.00      1.00      1.00        10\n",
            "Iris-versicolor       1.00      1.00      1.00        10\n",
            " Iris-virginica       1.00      1.00      1.00        10\n",
            "\n",
            "       accuracy                           1.00        30\n",
            "      macro avg       1.00      1.00      1.00        30\n",
            "   weighted avg       1.00      1.00      1.00        30\n",
            "\n"
          ]
        },
        {
          "output_type": "display_data",
          "data": {
            "text/plain": [
              "<Figure size 500x400 with 2 Axes>"
            ],
            "image/png": "[encoded data removed]"
          },
          "metadata": {}
        },
        {
          "output_type": "stream",
          "name": "stdout",
          "text": [
            "|--- PetalLengthCm <= 2.45\n",
            "|   |--- class: Iris-setosa\n",
            "|--- PetalLengthCm >  2.45\n",
            "|   |--- Id <= 100.50\n",
            "|   |   |--- class: Iris-versicolor\n",
            "|   |--- Id >  100.50\n",
            "|   |   |--- class: Iris-virginica\n",
            "\n"
          ]
        }
      ],
      "source": [
        "\n",
        "import pandas as pd\n",
        "from sklearn.model_selection import train_test_split\n",
        "from sklearn.tree import DecisionTreeClassifier, export_text\n",
        "from sklearn.metrics import accuracy_score, precision_score, recall_score, classification_report, confusion_matrix\n",
        "import seaborn as sns\n",
        "import matplotlib.pyplot as plt\n",
        "import os\n",
        "\n",
        "# === Step 1: Load dataset ===\n",
        "!mkdir -p ~/.kaggle\n",
        "!echo '{\"username\":\"YOUR_KAGGLE_USERNAME\",\"key\":\"YOUR_KAGGLE_API_KEY\"}' > ~/.kaggle/kaggle.json\n",
        "!chmod 600 ~/.kaggle/kaggle.json\n",
        "\n",
        "# Create data folder and download dataset\n",
        "!mkdir -p data\n",
        "!kaggle datasets download -d uciml/iris -p data\n",
        "!unzip -o data/iris.zip -d data\n",
        "\n",
        "iris_path = \"data/Iris.csv\"\n",
        "if not os.path.exists(iris_path):\n",
        "    raise FileNotFoundError(\"Please download iris.csv from Kaggle and place it under data/ folder.\")\n",
        "\n",
        "iris_df = pd.read_csv(iris_path)\n",
        "\n",
        "# === Step 2: Inspect and preprocess ===\n",
        "print(iris_df.head())\n",
        "print(iris_df.info())\n",
        "\n",
        "# Check for missing values\n",
        "if iris_df.isnull().values.any():\n",
        "    iris_df = iris_df.dropna()\n",
        "\n",
        "# Encode target column if it’s string labels\n",
        "X = iris_df.drop(columns=[\"Species\"])\n",
        "y = iris_df[\"Species\"]\n",
        "\n",
        "# Train-test split\n",
        "X_train, X_test, y_train, y_test = train_test_split(\n",
        "    X, y, test_size=0.2, random_state=42, stratify=y\n",
        ")\n",
        "\n",
        "# === Step 3: Model training ===\n",
        "clf = DecisionTreeClassifier(random_state=42, max_depth=4)\n",
        "clf.fit(X_train, y_train)\n",
        "\n",
        "# === Step 4: Evaluation ===\n",
        "y_pred = clf.predict(X_test)\n",
        "print(\"Accuracy:\", accuracy_score(y_test, y_pred))\n",
        "print(\"Precision:\", precision_score(y_test, y_pred, average='macro'))\n",
        "print(\"Recall:\", recall_score(y_test, y_pred, average='macro'))\n",
        "print(classification_report(y_test, y_pred))\n",
        "\n",
        "# Confusion matrix visualization\n",
        "plt.figure(figsize=(5,4))\n",
        "sns.heatmap(confusion_matrix(y_test, y_pred), annot=True, cmap=\"Blues\", fmt=\"d\")\n",
        "plt.title(\"Decision Tree Confusion Matrix\")\n",
        "\n",
        "# Ensure the 'figures' folder exists before saving\n",
        "os.makedirs(\"figures\", exist_ok=True)\n",
        "plt.savefig(\"figures/iris_confusion_matrix.png\", dpi=150)\n",
        "plt.show()\n",
        "\n",
        "\n",
        "# Export readable tree\n",
        "print(export_text(clf, feature_names=list(X.columns)))\n"
      ]
    }
  ]
}